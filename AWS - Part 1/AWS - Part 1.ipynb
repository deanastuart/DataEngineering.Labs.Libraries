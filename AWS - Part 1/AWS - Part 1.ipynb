{
 "cells": [
  {
   "cell_type": "markdown",
   "metadata": {},
   "source": [
    "## Intro to AWS\n",
    "\n",
    "Amazon Web Services (AWS) is far and away the largest provider of cloud compute infrastructure in the world. Learning how to interact with AWS is an extremely valuable and powerful tool to add to your belt.\n",
    "\n",
    "AWS can be thought of as a set of building blocks, with which you can build almost anything imaginable. \n",
    "\n",
    "Mobile apps, personal websites, photo back up, ₿ mining, databases, data lakes, global IT infrastructure, and more can all be built using AWS. For most people, it is true to say that no day goes by without them interacting in one form or another with a service hosted on AWS. So household names that are built on AWS are:\n",
    "\n",
    " - Netflix\n",
    " - Reddit\n",
    " - Pinterest\n",
    " - AirBnb\n",
    " - State and local government\n",
    " - US Intelligence Agencies\n",
    " - and many, MANY more!\n",
    " \n",
    "The labs we'll work through here, will help you get your feet wet with the platform. There are an ever growing number of services, so we'll work through a few examples of how to interact with the AWS services, and then you'll get a chance later in the course to explore more on your own.\n",
    "\n",
    "In essence, there are three ways to interact with AWS services:\n",
    "\n",
    "- The AWS CLI (Command Line Interface)\n",
    "    - Can be used directly from your command line\n",
    "- Boto3 (the official AWS SDK for Python)\n",
    "    - Used for integrating AWS services into Python code\n",
    "- The AWS Console (https://console.aws.amazon.com/)\n",
    "    - AWS website, where you can see all your services, and manually spin up services\n",
    "    \n",
    "We'll start with a number of Boto3 examples, then log into the console and try a few things, and finally give the CLI a shot.\n",
    "\n",
    "For the AWS labs you'll need:\n",
    " - Boto3 (python library)\n",
    " - awscli (python library)"
   ]
  },
  {
   "cell_type": "code",
   "execution_count": 2,
   "metadata": {},
   "outputs": [
    {
     "name": "stdout",
     "output_type": "stream",
     "text": [
      "Collecting boto3\n",
      "  Downloading boto3-1.16.25-py2.py3-none-any.whl (129 kB)\n",
      "\u001b[K     |████████████████████████████████| 129 kB 3.5 MB/s eta 0:00:01\n",
      "\u001b[?25hCollecting botocore<1.20.0,>=1.19.25\n",
      "  Downloading botocore-1.19.25-py2.py3-none-any.whl (6.9 MB)\n",
      "\u001b[K     |████████████████████████████████| 6.9 MB 10.9 MB/s eta 0:00:01\n",
      "\u001b[?25hCollecting s3transfer<0.4.0,>=0.3.0\n",
      "  Downloading s3transfer-0.3.3-py2.py3-none-any.whl (69 kB)\n",
      "\u001b[K     |████████████████████████████████| 69 kB 7.7 MB/s  eta 0:00:01\n",
      "\u001b[?25hCollecting jmespath<1.0.0,>=0.7.1\n",
      "  Downloading jmespath-0.10.0-py2.py3-none-any.whl (24 kB)\n",
      "Requirement already satisfied: urllib3<1.27,>=1.25.4; python_version != \"3.4\" in /Users/deana/opt/anaconda3/lib/python3.8/site-packages (from botocore<1.20.0,>=1.19.25->boto3) (1.25.9)\n",
      "Requirement already satisfied: python-dateutil<3.0.0,>=2.1 in /Users/deana/opt/anaconda3/lib/python3.8/site-packages (from botocore<1.20.0,>=1.19.25->boto3) (2.8.1)\n",
      "Requirement already satisfied: six>=1.5 in /Users/deana/opt/anaconda3/lib/python3.8/site-packages (from python-dateutil<3.0.0,>=2.1->botocore<1.20.0,>=1.19.25->boto3) (1.15.0)\n",
      "Installing collected packages: jmespath, botocore, s3transfer, boto3\n",
      "Successfully installed boto3-1.16.25 botocore-1.19.25 jmespath-0.10.0 s3transfer-0.3.3\n",
      "Note: you may need to restart the kernel to use updated packages.\n"
     ]
    }
   ],
   "source": [
    "pip install boto3"
   ]
  },
  {
   "cell_type": "code",
   "execution_count": 1,
   "metadata": {},
   "outputs": [],
   "source": [
    "#import boto3\n",
    "\n",
    "import boto3"
   ]
  },
  {
   "cell_type": "markdown",
   "metadata": {},
   "source": [
    "## S3 (Simple Storage Service)\n",
    "\n",
    "A few things to keep in mind (from AWS):\n",
    "\n",
    "- Bucket names must be unique across all existing bucket names in Amazon S3.\n",
    "\n",
    "- Bucket names must comply with DNS naming conventions.\n",
    "\n",
    "- Bucket names must be at least 3 and no more than 63 characters long.\n",
    "\n",
    "- Bucket names must not contain uppercase characters or underscores.\n",
    "\n",
    "- Bucket names must start with a lowercase letter or number.\n",
    "\n",
    "- Bucket names must be a series of one or more labels. Adjacent labels are separated by a single period (.). Bucket names can contain lowercase letters, numbers, and hyphens. Each label must start and end with a lowercase letter or a number.\n",
    "\n",
    "- Bucket names must not be formatted as an IP address (for example, 192.168.5.4)."
   ]
  },
  {
   "cell_type": "code",
   "execution_count": 7,
   "metadata": {},
   "outputs": [],
   "source": [
    "#define the s3 client in Boto3\n",
    "\n",
    "s3 = boto3.client('s3') "
   ]
  },
  {
   "cell_type": "code",
   "execution_count": 8,
   "metadata": {},
   "outputs": [
    {
     "data": {
      "text/plain": [
       "{'ResponseMetadata': {'RequestId': '6N2P0MBS6MDM7V3M',\n",
       "  'HostId': 'UgG1Cy7GfVJsuxigK709ocTewR8H4ejgiVMpCMayyzCBkCItprdQDdZVNW8YSA9U1qrbqpQhScI=',\n",
       "  'HTTPStatusCode': 200,\n",
       "  'HTTPHeaders': {'x-amz-id-2': 'UgG1Cy7GfVJsuxigK709ocTewR8H4ejgiVMpCMayyzCBkCItprdQDdZVNW8YSA9U1qrbqpQhScI=',\n",
       "   'x-amz-request-id': '6N2P0MBS6MDM7V3M',\n",
       "   'date': 'Sat, 28 Nov 2020 17:05:34 GMT',\n",
       "   'location': '/the.best.zipcode.bucket.there.ever.was.deana',\n",
       "   'content-length': '0',\n",
       "   'server': 'AmazonS3'},\n",
       "  'RetryAttempts': 0},\n",
       " 'Location': '/the.best.zipcode.bucket.there.ever.was.deana'}"
      ]
     },
     "execution_count": 8,
     "metadata": {},
     "output_type": "execute_result"
    }
   ],
   "source": [
    "#create a new bucket (bucket names are globally unique, so you'll have to use a name that hasn't been used before)\n",
    "\n",
    "s3.create_bucket(Bucket=\"the.best.zipcode.bucket.there.ever.was.deana\")"
   ]
  },
  {
   "cell_type": "code",
   "execution_count": 11,
   "metadata": {},
   "outputs": [
    {
     "name": "stdout",
     "output_type": "stream",
     "text": [
      "the.best.zipcode.bucket.there.ever.was.deana\n"
     ]
    }
   ],
   "source": [
    "#show all buckets in your account to confirm your bucket was created\n",
    "\n",
    "buckets = s3.list_buckets()\n",
    "for i in buckets['Buckets']:\n",
    "    if i['Name'] == 'the.best.zipcode.bucket.there.ever.was.deana':\n",
    "        print(i['Name'])"
   ]
  },
  {
   "cell_type": "code",
   "execution_count": 12,
   "metadata": {},
   "outputs": [],
   "source": [
    "#upload the \"hello world.rtf\" into your new bucket\n",
    "\n",
    "s3.upload_file(Filename='hello world.rtf', Bucket=\"the.best.zipcode.bucket.there.ever.was.deana\", Key=\"hello world\")"
   ]
  },
  {
   "cell_type": "code",
   "execution_count": 13,
   "metadata": {},
   "outputs": [
    {
     "data": {
      "text/plain": [
       "{'ResponseMetadata': {'RequestId': '75BA43BF49323469',\n",
       "  'HostId': 'WL0KSpvVM6I7ZQv3kckiUsq6dSid7DUftPYHjwvbuC1p66RfvgeHyt6nHjbdHlBUVjbTJ/vQ7j8=',\n",
       "  'HTTPStatusCode': 200,\n",
       "  'HTTPHeaders': {'x-amz-id-2': 'WL0KSpvVM6I7ZQv3kckiUsq6dSid7DUftPYHjwvbuC1p66RfvgeHyt6nHjbdHlBUVjbTJ/vQ7j8=',\n",
       "   'x-amz-request-id': '75BA43BF49323469',\n",
       "   'date': 'Sat, 28 Nov 2020 17:06:15 GMT',\n",
       "   'x-amz-bucket-region': 'us-east-1',\n",
       "   'content-type': 'application/xml',\n",
       "   'transfer-encoding': 'chunked',\n",
       "   'server': 'AmazonS3'},\n",
       "  'RetryAttempts': 0},\n",
       " 'IsTruncated': False,\n",
       " 'Marker': '',\n",
       " 'Contents': [{'Key': 'hello world',\n",
       "   'LastModified': datetime.datetime(2020, 11, 28, 17, 6, 9, tzinfo=tzutc()),\n",
       "   'ETag': '\"c1cbd445d50ae809918d4997cc9fc78c\"',\n",
       "   'Size': 378,\n",
       "   'StorageClass': 'STANDARD',\n",
       "   'Owner': {'DisplayName': 'deana.stuart16',\n",
       "    'ID': '3bab8db6a3a67dd86fbf6a7d0c4f890f12c885b2930063cee35eba6a7ce64bef'}}],\n",
       " 'Name': 'the.best.zipcode.bucket.there.ever.was.deana',\n",
       " 'Prefix': '',\n",
       " 'MaxKeys': 1000,\n",
       " 'EncodingType': 'url'}"
      ]
     },
     "execution_count": 13,
     "metadata": {},
     "output_type": "execute_result"
    }
   ],
   "source": [
    "#check the contents of the bucket and see if your file is there\n",
    "\n",
    "response = s3.list_objects(Bucket='the.best.zipcode.bucket.there.ever.was.deana')\n",
    "response"
   ]
  },
  {
   "cell_type": "code",
   "execution_count": 14,
   "metadata": {},
   "outputs": [
    {
     "data": {
      "text/plain": [
       "{'ResponseMetadata': {'RequestId': '86DA82DB7528FA06',\n",
       "  'HostId': 'FKc70wSRLcxWFL9dfdYnopceOr70rSWSwr+Yv6xzM/j3/Y7n7Q/7EYvwfnn6k9w0i7x5tYMP+Ck=',\n",
       "  'HTTPStatusCode': 204,\n",
       "  'HTTPHeaders': {'x-amz-id-2': 'FKc70wSRLcxWFL9dfdYnopceOr70rSWSwr+Yv6xzM/j3/Y7n7Q/7EYvwfnn6k9w0i7x5tYMP+Ck=',\n",
       "   'x-amz-request-id': '86DA82DB7528FA06',\n",
       "   'date': 'Sat, 28 Nov 2020 17:06:33 GMT',\n",
       "   'server': 'AmazonS3'},\n",
       "  'RetryAttempts': 0}}"
      ]
     },
     "execution_count": 14,
     "metadata": {},
     "output_type": "execute_result"
    }
   ],
   "source": [
    "#delete your test file\n",
    "\n",
    "delete = s3.delete_object(\n",
    "    Bucket='the.best.zipcode.bucket.there.ever.was.deana',\n",
    "    Key='hello world')\n",
    "\n",
    "delete"
   ]
  },
  {
   "cell_type": "code",
   "execution_count": 15,
   "metadata": {},
   "outputs": [
    {
     "data": {
      "text/plain": [
       "{'ResponseMetadata': {'RequestId': 'A37189F06CD6514D',\n",
       "  'HostId': '5Y2HczgsccNsGx5RfCjulxqXjRjk7kJ5evdkJ/wT4yD1cGwVzUQZhUuW+tjxoVZEZ8mpp7ktshM=',\n",
       "  'HTTPStatusCode': 200,\n",
       "  'HTTPHeaders': {'x-amz-id-2': '5Y2HczgsccNsGx5RfCjulxqXjRjk7kJ5evdkJ/wT4yD1cGwVzUQZhUuW+tjxoVZEZ8mpp7ktshM=',\n",
       "   'x-amz-request-id': 'A37189F06CD6514D',\n",
       "   'date': 'Sat, 28 Nov 2020 17:06:43 GMT',\n",
       "   'x-amz-bucket-region': 'us-east-1',\n",
       "   'content-type': 'application/xml',\n",
       "   'transfer-encoding': 'chunked',\n",
       "   'server': 'AmazonS3'},\n",
       "  'RetryAttempts': 0},\n",
       " 'IsTruncated': False,\n",
       " 'Marker': '',\n",
       " 'Name': 'the.best.zipcode.bucket.there.ever.was.deana',\n",
       " 'Prefix': '',\n",
       " 'MaxKeys': 1000,\n",
       " 'EncodingType': 'url'}"
      ]
     },
     "execution_count": 15,
     "metadata": {},
     "output_type": "execute_result"
    }
   ],
   "source": [
    "#check the contents of the bucket and confirm your file is deleted as expected\n",
    "\n",
    "check = s3.list_objects(Bucket='the.best.zipcode.bucket.there.ever.was.deana')\n",
    "check"
   ]
  },
  {
   "cell_type": "code",
   "execution_count": 17,
   "metadata": {},
   "outputs": [],
   "source": [
    "#delete the bucket (buckets can only be deleted once they're empty)\n",
    "\n",
    "goodbye_bucket = s3.delete_bucket(Bucket='the.best.zipcode.bucket.there.ever.was.deana')"
   ]
  },
  {
   "cell_type": "code",
   "execution_count": null,
   "metadata": {},
   "outputs": [],
   "source": []
  }
 ],
 "metadata": {
  "kernelspec": {
   "display_name": "Python 3",
   "language": "python",
   "name": "python3"
  },
  "language_info": {
   "codemirror_mode": {
    "name": "ipython",
    "version": 3
   },
   "file_extension": ".py",
   "mimetype": "text/x-python",
   "name": "python",
   "nbconvert_exporter": "python",
   "pygments_lexer": "ipython3",
   "version": "3.8.3"
  }
 },
 "nbformat": 4,
 "nbformat_minor": 2
}
